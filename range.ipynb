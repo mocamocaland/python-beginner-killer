{
 "cells": [
  {
   "cell_type": "code",
   "execution_count": 6,
   "metadata": {},
   "outputs": [
    {
     "name": "stdout",
     "output_type": "stream",
     "text": [
      "0 1 2 3 4 5 6 7 8 9\n"
     ]
    }
   ],
   "source": [
    "print(*range(10))"
   ]
  },
  {
   "cell_type": "code",
   "execution_count": 7,
   "metadata": {},
   "outputs": [
    {
     "name": "stdout",
     "output_type": "stream",
     "text": [
      "0 1 2 3 4 5 6 7 8 9\n"
     ]
    }
   ],
   "source": [
    "print(*range(10),)\n",
    "\"\"\"\n",
    "# Python 3.6.1 (v3.6.1:69c0db5050, Mar 21 2017, 01:21:04)\n",
    "[GCC 4.2.1 (Apple Inc. build 5666) (dot 3)] on darwin\n",
    "Type \"help\", \"copyright\", \"credits\" or \"license\" for more information.\n",
    ">>>*range(10),\n",
    "(0, 1, 2, 3, 4, 5, 6, 7, 8, 9)\n",
    "\"\"\""
   ]
  },
  {
   "cell_type": "raw",
   "metadata": {},
   "source": [
    "# Python 3.6.1 (v3.6.1:69c0db5050, Mar 21 2017, 01:21:04)"
   ]
  },
  {
   "cell_type": "raw",
   "metadata": {},
   "source": [
    "[GCC 4.2.1 (Apple Inc. build 5666) (dot 3)] on darwin"
   ]
  },
  {
   "cell_type": "raw",
   "metadata": {},
   "source": [
    "Type \"help\", \"copyright\", \"credits\" or \"license\" for more information."
   ]
  },
  {
   "cell_type": "raw",
   "metadata": {},
   "source": [
    ">>>*range(10),"
   ]
  },
  {
   "cell_type": "raw",
   "metadata": {},
   "source": [
    "(0, 1, 2, 3, 4, 5, 6, 7, 8, 9)"
   ]
  }
 ],
 "metadata": {
  "kernelspec": {
   "display_name": "Python 3",
   "language": "python",
   "name": "python3"
  },
  "language_info": {
   "codemirror_mode": {
    "name": "ipython",
    "version": 3
   },
   "file_extension": ".py",
   "mimetype": "text/x-python",
   "name": "python",
   "nbconvert_exporter": "python",
   "pygments_lexer": "ipython3",
   "version": "3.6.1"
  }
 },
 "nbformat": 4,
 "nbformat_minor": 2
}
